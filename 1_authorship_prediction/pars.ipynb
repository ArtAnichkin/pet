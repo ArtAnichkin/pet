{
 "cells": [
  {
   "cell_type": "markdown",
   "id": "57ddd295",
   "metadata": {
    "toc": true
   },
   "source": [
    "<h1>Table of Contents<span class=\"tocSkip\"></span></h1>\n",
    "<div class=\"toc\"><ul class=\"toc-item\"><li><span><a href=\"#Парсинг\" data-toc-modified-id=\"Парсинг-1\"><span class=\"toc-item-num\">1&nbsp;&nbsp;</span>Парсинг</a></span></li><li><span><a href=\"#Очистка\" data-toc-modified-id=\"Очистка-2\"><span class=\"toc-item-num\">2&nbsp;&nbsp;</span>Очистка</a></span></li></ul></div>"
   ]
  },
  {
   "cell_type": "markdown",
   "id": "517012c6",
   "metadata": {},
   "source": [
    "Здесь реализован синхронный парсер картин с [сайта](https://gallerix.ru/storeroom/) галереи. На страничке есть поблочный список авторов у которых более 100 картин. У каждого автора есть свой альбом, в котором можно последовательно двигаться по работам. Бот сохраняет картины в папке в читаемом виде для dataloader из pytorch."
   ]
  },
  {
   "cell_type": "markdown",
   "id": "b294f598",
   "metadata": {},
   "source": [
    "## Парсинг"
   ]
  },
  {
   "cell_type": "code",
   "execution_count": 1,
   "id": "3c6d305d",
   "metadata": {},
   "outputs": [],
   "source": [
    "import requests\n",
    "from bs4 import BeautifulSoup\n",
    "import os\n",
    "from tqdm import notebook\n",
    "import re\n",
    "from PIL import Image\n",
    "import shutil"
   ]
  },
  {
   "cell_type": "code",
   "execution_count": 2,
   "id": "5ac8e0a2",
   "metadata": {},
   "outputs": [],
   "source": [
    "headers = {\n",
    "    'Accept': '*/*',\n",
    "    'User-Agent': 'Mozilla/5.0 (Windows NT 10.0; Win64; x64) AppleWebKit/537.36 (KHTML, like Gecko) Chrome/96.0.4664.174 YaBrowser/22.1.2.834 Yowser/2.5 Safari/537.36'\n",
    "}"
   ]
  },
  {
   "cell_type": "code",
   "execution_count": 3,
   "id": "626a45e7",
   "metadata": {},
   "outputs": [],
   "source": [
    "def get_soup(url, headers):\n",
    "    req = requests.get(url, headers=headers)\n",
    "    src = req.text\n",
    "    soup = BeautifulSoup(src, 'lxml')\n",
    "    return soup"
   ]
  },
  {
   "cell_type": "code",
   "execution_count": 4,
   "id": "6cc81df3",
   "metadata": {},
   "outputs": [],
   "source": [
    "url = 'https://gallerix.ru/storeroom/'\n",
    "soup = get_soup(url, headers)"
   ]
  },
  {
   "cell_type": "code",
   "execution_count": 5,
   "id": "abd6b532",
   "metadata": {},
   "outputs": [
    {
     "data": {
      "text/plain": [
       "240"
      ]
     },
     "execution_count": 5,
     "metadata": {},
     "output_type": "execute_result"
    }
   ],
   "source": [
    "blocks = soup.find_all(class_='sr-pntrs')\n",
    "auths = []\n",
    "for block in blocks:\n",
    "    auths.extend(block.find_all('a'))\n",
    "len(auths)"
   ]
  },
  {
   "cell_type": "code",
   "execution_count": 6,
   "id": "2a875db7",
   "metadata": {},
   "outputs": [
    {
     "data": {
      "application/vnd.jupyter.widget-view+json": {
       "model_id": "08d12e7ea555429a97d0ae57462c2910",
       "version_major": 2,
       "version_minor": 0
      },
      "text/plain": [
       "  0%|          | 0/240 [00:00<?, ?it/s]"
      ]
     },
     "metadata": {},
     "output_type": "display_data"
    },
    {
     "name": "stdout",
     "output_type": "stream",
     "text": [
      "cant go to the auth page:  Burliuk, David Davidovich\n",
      "cant save image:  Challenger, J. D. Страница не найдена\n",
      "cant go on to the next link in:  Challenger, J. D. Страница не найдена\n",
      "cant go to the auth page:  Chirico, Giorgio De\n",
      "cant go to the auth page:  Dali, Salvador\n",
      "cant go to the auth page:  Deyneka, Alexander\n",
      "cant go to the auth page:  Dix, Otto\n",
      "cant save image:  Driben, Peter drib 047 Питер Дрибен\n",
      "cant save image:  Earle, Eyvind Страница не найдена\n",
      "cant go on to the next link in:  Earle, Eyvind Страница не найдена\n",
      "cant save image:  Elvgren, Gil GIL012 Джил Элвгрен 19141980\n",
      "cant save image:  Elvgren, Gil p Avalanche Pinup Cal1995 04 Джил Элвгрен 19141980\n",
      "cant go to the auth page:  Ernst, Max\n",
      "cant save image:  Fisher, Harrison Страница не найдена\n",
      "cant go on to the next link in:  Fisher, Harrison Страница не найдена\n",
      "cant save image:  Lebourg, Albert-Charles Береговая линия порта Онфлёра АльберШарль Лебур\n",
      "cant go to the auth page:  Lempicka, Tamara De\n",
      "cant go to the auth page:  Magritte, Rene\n",
      "cant save image:  Martin, Henri-Jean-Guillaume Страница не найдена\n",
      "cant go on to the next link in:  Martin, Henri-Jean-Guillaume Страница не найдена\n",
      "cant save image:  Monet, Claude Oscar Кувшинки 191619 05 Клод Оскар Моне 18401926\n",
      "cant go on to the next link in:  Monet, Claude Oscar Кувшинки 191619 05 Клод Оскар Моне 18401926\n",
      "cant save image:  Mucha, Alphonse Maria Страница не найдена\n",
      "cant go on to the next link in:  Mucha, Alphonse Maria Страница не найдена\n",
      "cant save image:  Nasmith, Ted Страница не найдена\n",
      "cant go on to the next link in:  Nasmith, Ted Страница не найдена\n",
      "cant save image:  Nelson, Robert Lyn Страница не найдена\n",
      "cant go on to the next link in:  Nelson, Robert Lyn Страница не найдена\n",
      "cant save image:  Perceval, Jesus De 26770 Иисус Де Персеваль\n",
      "cant go to the auth page:  Picasso, Pablo\n",
      "cant save image:  Piero della Francesca Ангел Пьеро делла Франческа 1415171492\n",
      "cant save image:  Piero della Francesca Ангел Пьеро делла Франческа 1415171492\n",
      "cant save image:  Piero della Francesca Ангел Пьеро делла Франческа 1415171492\n",
      "cant save image:  Piero della Francesca Ангел Пьеро делла Франческа 1415171492\n",
      "cant save image:  Piero della Francesca Франческа Пьеро делла Франческа 1415171492\n",
      "cant save image:  Piero della Francesca Франческа Пьеро делла Франческа 1415171492\n",
      "cant save image:  Pinole, Nicanor 4DPictdcvgbhnj Никанор Пиноль\n",
      "cant save image:  Sargent, John Singer Сады Боболи Джон Сингер Сарджент 18561925\n",
      "cant go to the auth page:  Utrillo, Maurice\n",
      "cant go to the auth page:  Warhol, Andy\n",
      "cant save image:  Weyden, Rogier Van Der The Last Judgment Polyptych WGA Рогир ван дер Вейден\n",
      "cant go to the auth page:  Wyeth, Andrew\n",
      "cant go to the auth page:  Шагал, Марк Захарович\n",
      "cant save image:  Фешин, Николай Иванович Портрет девушки Екатерина Антропова 1910е Николай Иванович Фешин 18811955\n",
      "cant save image:  Фешин, Николай Иванович Портрет девушки Екатерина Антропова 1910е Николай Иванович Фешин 18811955\n",
      "cant save image:  Фешин, Николай Иванович Портрет девушки Екатерина Антропова 1910е Николай Иванович Фешин 18811955\n",
      "cant save image:  Фешин, Николай Иванович Головка девочки Этюд 1912 Николай Иванович Фешин 18811955\n"
     ]
    }
   ],
   "source": [
    "os.mkdir('dataset')\n",
    "\n",
    "#Проход по авторам\n",
    "for auth in notebook.tqdm(auths):\n",
    "    path = auth.text\n",
    "    if 'REDIRECT' in path:\n",
    "        continue\n",
    "    os.mkdir(f'dataset/{path}')\n",
    "    url = 'https://gallerix.ru' + auth.get('href')\n",
    "\n",
    "    #Спуск к альбому\n",
    "    try:\n",
    "        soup = get_soup(url, headers)\n",
    "        url = 'https://gallerix.ru' + soup.find(class_='pic').find(class_='animsition-link').get('href')\n",
    "    except:\n",
    "        print('cant go to the auth page: ', path)\n",
    "        continue\n",
    "        \n",
    "    #Сбор картин\n",
    "    img_num = 0\n",
    "    while True:\n",
    "        try:\n",
    "            soup = get_soup(url, headers)\n",
    "            name = re.sub(r'[^\\w\\s]','', soup.find(class_='panel-title').text)\n",
    "            img_src = soup.find(class_='xpic').find('img').get('src')\n",
    "            with open(f'dataset/{path}/{img_num}.jpg', 'wb') as img:\n",
    "                img.write(requests.get(img_src, headers=headers).content)\n",
    "            img_num += 1\n",
    "        except:\n",
    "            print('cant save image: ', path, name)\n",
    "        try:\n",
    "            fol = soup.find(class_='icon ion-md-arrow-forward d2 m2').find_parent()\n",
    "            if fol.get('onclick') == 'return:false;':\n",
    "                break\n",
    "            url = 'https:' + fol.get('onclick')[15:-2]\n",
    "        except:\n",
    "            print('cant go on to the next link in: ', path, name)\n",
    "            break"
   ]
  },
  {
   "cell_type": "code",
   "execution_count": 7,
   "id": "0e2f894d",
   "metadata": {},
   "outputs": [
    {
     "name": "stdout",
     "output_type": "stream",
     "text": [
      "num_auth:  239\n",
      "num_img:  46123\n"
     ]
    }
   ],
   "source": [
    "root = 'dataset'\n",
    "num_auth = 0\n",
    "num_img = 0\n",
    "\n",
    "# проходимся по всем подпапкам и файлам внутри директории root\n",
    "for dirname, _, files in os.walk(root):\n",
    "    if dirname == 'dataset':\n",
    "        continue\n",
    "    num_auth += 1\n",
    "    num_img += len(files)\n",
    "print('num_auth: ', num_auth)\n",
    "print('num_img: ', num_img)"
   ]
  },
  {
   "cell_type": "markdown",
   "id": "e39a8e28",
   "metadata": {},
   "source": [
    "Не все картины удалось собрать. Теперь необходимо проверить целостность изображений и удалить авторов у которых работ получилось меньше 100 "
   ]
  },
  {
   "cell_type": "markdown",
   "id": "c61f32da",
   "metadata": {},
   "source": [
    "## Очистка"
   ]
  },
  {
   "cell_type": "code",
   "execution_count": 8,
   "id": "b25d4ad9",
   "metadata": {},
   "outputs": [
    {
     "data": {
      "application/vnd.jupyter.widget-view+json": {
       "model_id": "45f3ca5ec77b4b808cf6fda25c1a050f",
       "version_major": 2,
       "version_minor": 0
      },
      "text/plain": [
       "0it [00:00, ?it/s]"
      ]
     },
     "metadata": {},
     "output_type": "display_data"
    },
    {
     "name": "stdout",
     "output_type": "stream",
     "text": [
      "num_del:  0\n"
     ]
    }
   ],
   "source": [
    "num_del = 0\n",
    "for dirname, _, files in notebook.tqdm(os.walk(root)):\n",
    "    if dirname == 'dataset':\n",
    "        continue\n",
    "    for img in files:\n",
    "        try:\n",
    "            Image.open(f'{dirname}/{img}')\n",
    "        except:\n",
    "            os.remove(f'{dirname}/{img}')\n",
    "            num_del += 1\n",
    "print('num_del: ', num_del)"
   ]
  },
  {
   "cell_type": "code",
   "execution_count": 9,
   "id": "42e32640",
   "metadata": {},
   "outputs": [
    {
     "name": "stdout",
     "output_type": "stream",
     "text": [
      "num_auth:  218\n",
      "num_img:  45747\n"
     ]
    }
   ],
   "source": [
    "root = 'dataset'\n",
    "num_auth = 0\n",
    "num_img = 0\n",
    "\n",
    "# проходимся по всем подпапкам и файлам внутри директории root\n",
    "for dirname, _, files in os.walk(root):\n",
    "    if dirname == 'dataset':\n",
    "        continue\n",
    "    if len(files) < 100:\n",
    "        shutil.rmtree(dirname)\n",
    "        continue\n",
    "    num_auth += 1\n",
    "    num_img += len(files)\n",
    "print('num_auth: ', num_auth)\n",
    "print('num_img: ', num_img)"
   ]
  },
  {
   "cell_type": "markdown",
   "id": "1511449a",
   "metadata": {},
   "source": [
    "Итого 218 авторов и 45747 работ"
   ]
  }
 ],
 "metadata": {
  "kernelspec": {
   "display_name": "Python 3 (ipykernel)",
   "language": "python",
   "name": "python3"
  },
  "language_info": {
   "codemirror_mode": {
    "name": "ipython",
    "version": 3
   },
   "file_extension": ".py",
   "mimetype": "text/x-python",
   "name": "python",
   "nbconvert_exporter": "python",
   "pygments_lexer": "ipython3",
   "version": "3.9.13"
  },
  "toc": {
   "base_numbering": 1,
   "nav_menu": {},
   "number_sections": true,
   "sideBar": true,
   "skip_h1_title": true,
   "title_cell": "Table of Contents",
   "title_sidebar": "Contents",
   "toc_cell": true,
   "toc_position": {},
   "toc_section_display": true,
   "toc_window_display": false
  }
 },
 "nbformat": 4,
 "nbformat_minor": 5
}
