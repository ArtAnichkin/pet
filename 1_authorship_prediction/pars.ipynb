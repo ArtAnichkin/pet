{
 "cells": [
  {
   "cell_type": "markdown",
   "id": "57ddd295",
   "metadata": {
    "toc": true
   },
   "source": [
    "<h1>Table of Contents<span class=\"tocSkip\"></span></h1>\n",
    "<div class=\"toc\"><ul class=\"toc-item\"></ul></div>"
   ]
  },
  {
   "cell_type": "code",
   "execution_count": 1,
   "id": "3c6d305d",
   "metadata": {},
   "outputs": [],
   "source": [
    "from bs4 import BeautifulSoup\n",
    "import requests\n",
    "import re\n",
    "import json\n",
    "from tqdm import notebook"
   ]
  },
  {
   "cell_type": "code",
   "execution_count": 2,
   "id": "d65d4de5",
   "metadata": {},
   "outputs": [],
   "source": [
    "headers = {\n",
    "    'Accept': '*/*',\n",
    "    'User-Agent': 'Mozilla/5.0 (Windows NT 10.0; Win64; x64) AppleWebKit/537.36 (KHTML, like Gecko) Chrome/96.0.4664.174 YaBrowser/22.1.2.834 Yowser/2.5 Safari/537.36'\n",
    "}"
   ]
  },
  {
   "cell_type": "code",
   "execution_count": 3,
   "id": "a7bc69be",
   "metadata": {},
   "outputs": [],
   "source": [
    "picts = list()"
   ]
  },
  {
   "cell_type": "code",
   "execution_count": 4,
   "id": "98551407",
   "metadata": {},
   "outputs": [],
   "source": [
    "lost = 0"
   ]
  },
  {
   "cell_type": "code",
   "execution_count": 5,
   "id": "60d26db1",
   "metadata": {
    "scrolled": false
   },
   "outputs": [
    {
     "data": {
      "application/vnd.jupyter.widget-view+json": {
       "model_id": "bb402edcc9ef45c79f755ccd07d32c59",
       "version_major": 2,
       "version_minor": 0
      },
      "text/plain": [
       "  0%|          | 0/378 [00:00<?, ?it/s]"
      ]
     },
     "metadata": {},
     "output_type": "display_data"
    }
   ],
   "source": [
    "for i in notebook.tqdm(range(1,379)):\n",
    "    url = f'https://my.tretyakov.ru/app/gallery?lang=ru&pageNum={i}'\n",
    "    req = requests.get(url, headers=headers)\n",
    "    src = req.text\n",
    "    soup = BeautifulSoup(src, 'lxml')\n",
    "    cards = soup.find_all(class_='picture-content')\n",
    "    for card in cards:\n",
    "        try:\n",
    "            img = card.find('img').get('src')\n",
    "            name = card.find(class_='card-title').find('span').text\n",
    "            author = card.find(class_='card-author').find('span').text\n",
    "            picts.append({\n",
    "                        'name': name,\n",
    "                        'author': author,\n",
    "                        'img': img,\n",
    "            })\n",
    "        except:\n",
    "            lost += 1"
   ]
  },
  {
   "cell_type": "code",
   "execution_count": 10,
   "id": "df1e3083",
   "metadata": {},
   "outputs": [],
   "source": [
    "with open('picts.json', 'w', encoding='utf8') as file:\n",
    "    json.dump(picts, file, indent=4, ensure_ascii=False)"
   ]
  }
 ],
 "metadata": {
  "kernelspec": {
   "display_name": "Python 3 (ipykernel)",
   "language": "python",
   "name": "python3"
  },
  "language_info": {
   "codemirror_mode": {
    "name": "ipython",
    "version": 3
   },
   "file_extension": ".py",
   "mimetype": "text/x-python",
   "name": "python",
   "nbconvert_exporter": "python",
   "pygments_lexer": "ipython3",
   "version": "3.9.13"
  },
  "toc": {
   "base_numbering": 1,
   "nav_menu": {},
   "number_sections": true,
   "sideBar": true,
   "skip_h1_title": true,
   "title_cell": "Table of Contents",
   "title_sidebar": "Contents",
   "toc_cell": true,
   "toc_position": {},
   "toc_section_display": true,
   "toc_window_display": false
  }
 },
 "nbformat": 4,
 "nbformat_minor": 5
}
